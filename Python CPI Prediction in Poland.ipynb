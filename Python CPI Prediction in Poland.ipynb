{
 "cells": [
  {
   "cell_type": "code",
   "execution_count": 2,
   "metadata": {},
   "outputs": [],
   "source": [
    "#Collecting the data\n",
    "\n",
    "\n",
    "#importing libraries\n",
    "import pandas as pd\n",
    "from statsmodels.tsa.arima.model import ARIMA\n",
    "\n",
    "#downloading data from \"GUS\" - Central Statistical Office\n",
    "csv= 'https://stat.gov.pl/download/gfx/portalinformacyjny/pl/defaultstronaopisowa/4741/1/1/miesieczne_wskazniki_cen_towarow_i_uslug_konsumpcyjnych_od_1982_roku.csv'\n",
    "\n",
    "#Loading data to dataframe\n",
    "df = pd.read_csv(csv, delimiter=';', encoding='cp1250')\n"
   ]
  },
  {
   "cell_type": "code",
   "execution_count": 3,
   "metadata": {},
   "outputs": [],
   "source": [
    "#Data preparation\n",
    "\n",
    "\n",
    "#data cleaning\n",
    "df = df.drop(['Nazwa zmiennej', 'Jednostka terytorialna', 'Flaga', 'Unnamed: 7', 'Unnamed: 8'  ], axis=1)\n",
    "df = df[df['Sposób prezentacji'] == 'Analogiczny miesiąc poprzedniego roku = 100']\n",
    "df = df.drop('Sposób prezentacji', axis=1)\n",
    "df['Wartość'] = df['Wartość'].str.replace(',', '.').astype(float)\n",
    "df= df.dropna()\n",
    "\n",
    "\n",
    "#creating \"Date\" as index\n",
    "df['Dzień'] = pd.to_datetime(df['Miesiąc'].astype(str) + '-' + df['Rok'].astype(str), format='%m-%Y').dt.days_in_month\n",
    "df['Data'] = pd.to_datetime(df['Rok'].astype(str) + '-' + df['Miesiąc'].astype(str) + '-' + df['Dzień'].astype(str))\n",
    "df.set_index('Data', inplace=True)\n",
    "\n",
    "\n",
    "#data sorting\n",
    "df.sort_index(inplace=True)\n",
    "\n",
    "#further data cleaning\n",
    "df.drop(['Rok', 'Miesiąc', 'Dzień'], axis=1, inplace=True)\n"
   ]
  },
  {
   "cell_type": "code",
   "execution_count": null,
   "metadata": {},
   "outputs": [],
   "source": [
    "#creating ARIMA model\n",
    "\n",
    "model = ARIMA(df['Wartość'], order=(1, 2, 1), freq='M')\n",
    "model_fit = model.fit()"
   ]
  },
  {
   "cell_type": "code",
   "execution_count": 7,
   "metadata": {},
   "outputs": [
    {
     "name": "stdout",
     "output_type": "stream",
     "text": [
      "Predicted CPI value for next month: 11.9\n"
     ]
    }
   ],
   "source": [
    "#predicting CPI for next month\n",
    "predicted_cpi = model_fit.forecast(steps=1)[0]\n",
    "print('Predicted CPI value for next month:', round(predicted_cpi-100, 1))"
   ]
  }
 ],
 "metadata": {
  "kernelspec": {
   "display_name": "Python 3",
   "language": "python",
   "name": "python3"
  },
  "language_info": {
   "codemirror_mode": {
    "name": "ipython",
    "version": 3
   },
   "file_extension": ".py",
   "mimetype": "text/x-python",
   "name": "python",
   "nbconvert_exporter": "python",
   "pygments_lexer": "ipython3",
   "version": "3.11.4"
  },
  "orig_nbformat": 4
 },
 "nbformat": 4,
 "nbformat_minor": 2
}
