{
 "cells": [
  {
   "attachments": {},
   "cell_type": "markdown",
   "metadata": {},
   "source": [
    "Projekt samodzielny\n",
    "\n",
    "Mateusz Miotła\n",
    "\n",
    "Prognoza 13.8\n",
    "\n",
    "Model polega na analizie szeregów czasowych na bazie ARIMA. Analizuje on miesięczne wskaźniki inflacji od 1982 pobrane z bazy danych GUS."
   ]
  },
  {
   "cell_type": "code",
   "execution_count": 1,
   "metadata": {},
   "outputs": [
    {
     "name": "stdout",
     "output_type": "stream",
     "text": [
      "Przewidywana wartość na 31.05.2023: 13.8\n"
     ]
    },
    {
     "name": "stderr",
     "output_type": "stream",
     "text": [
      "c:\\Users\\cl9ma\\AppData\\Local\\Programs\\Python\\Python311\\Lib\\site-packages\\statsmodels\\tsa\\base\\tsa_model.py:473: ValueWarning: No frequency information was provided, so inferred frequency M will be used.\n",
      "  self._init_dates(dates, freq)\n"
     ]
    }
   ],
   "source": [
    "#import bibliotek\n",
    "import pandas as pd\n",
    "from statsmodels.tsa.arima.model import ARIMA\n",
    "\n",
    "#link do pobrania danych w formacie CSV\n",
    "csv= 'https://stat.gov.pl/download/gfx/portalinformacyjny/pl/defaultstronaopisowa/4741/1/1/miesieczne_wskazniki_cen_towarow_i_uslug_konsumpcyjnych_od_1982_roku.csv'\n",
    "\n",
    "# Wczytywanie danych bezpośrednio z pliku CSV do DataFrame\n",
    "df = pd.read_csv(csv, delimiter=';', encoding='cp1250')\n",
    "\n",
    "\n",
    "#oczyszczanie danych\n",
    "df = df.drop(['Nazwa zmiennej', 'Jednostka terytorialna', 'Flaga', 'Unnamed: 7', 'Unnamed: 8'  ], axis=1)\n",
    "df = df[df['Sposób prezentacji'] == 'Analogiczny miesiąc poprzedniego roku = 100']\n",
    "df = df.drop('Sposób prezentacji', axis=1)\n",
    "df['Wartość'] = df['Wartość'].str.replace(',', '.').astype(float)\n",
    "df= df.dropna()\n",
    "\n",
    "\n",
    "#tworzenie kolumny Dzień zawierającej ostatni dzień danego miesiąca\n",
    "df['Dzień'] = pd.to_datetime(df['Miesiąc'].astype(str) + '-' + df['Rok'].astype(str), format='%m-%Y').dt.days_in_month\n",
    "\n",
    "#tworzenie kolumny Data zawierającej pełną datę\n",
    "df['Data'] = pd.to_datetime(df['Rok'].astype(str) + '-' + df['Miesiąc'].astype(str) + '-' + df['Dzień'].astype(str))\n",
    "\n",
    "#ustawienie daty jako indeksu\n",
    "df.set_index('Data', inplace=True)\n",
    "#sortowanie danych według daty\n",
    "df.sort_index(inplace=True)\n",
    "\n",
    "#dalsze oczyszczanie danych\n",
    "df.drop(['Rok', 'Miesiąc', 'Dzień'], axis=1, inplace=True)\n",
    "\n",
    "#tworzenie modelu ARIMA\n",
    "model = ARIMA(df['Wartość'], order=(1, 2, 1), freq='M')\n",
    "model_fit = model.fit()\n",
    "\n",
    "# Przewidywanie wartości na 31.05.2023\n",
    "predicted_cpi = model_fit.forecast(steps=1)[0]\n",
    "print('Przewidywana wartość na 31.05.2023:', round(predicted_cpi-100, 1))"
   ]
  }
 ],
 "metadata": {
  "kernelspec": {
   "display_name": "Python 3",
   "language": "python",
   "name": "python3"
  },
  "language_info": {
   "codemirror_mode": {
    "name": "ipython",
    "version": 3
   },
   "file_extension": ".py",
   "mimetype": "text/x-python",
   "name": "python",
   "nbconvert_exporter": "python",
   "pygments_lexer": "ipython3",
   "version": "3.11.3"
  },
  "orig_nbformat": 4
 },
 "nbformat": 4,
 "nbformat_minor": 2
}
